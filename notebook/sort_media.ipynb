{
 "cells": [
  {
   "cell_type": "markdown",
   "id": "7490e376",
   "metadata": {},
   "source": [
    "**Author:** Volokzhanin Vadim<br>\n",
    "**Date create:** 15.07.2021<br>\n",
    "**Repository:** https://github.com/VolokzhaninVadim/sort_media.git <br>\n",
    "**Target:** Сортировка медиафайлов, в которых есть лицо искомого человека"
   ]
  },
  {
   "cell_type": "markdown",
   "id": "3809cc39",
   "metadata": {},
   "source": [
    "[Репозиторий модуля по распознаванию лиц](https://github.com/timesler/facenet-pytorch)<br>\n",
    "![картинка](https://raw.githubusercontent.com/timesler/facenet-pytorch/master/data/facenet-pytorch-banner.png)"
   ]
  },
  {
   "cell_type": "markdown",
   "id": "c76ff795",
   "metadata": {},
   "source": [
    "# Схема работы  "
   ]
  },
  {
   "cell_type": "markdown",
   "id": "ffebacbd",
   "metadata": {},
   "source": [
    "![face_detection.png](./face_detection.png)"
   ]
  },
  {
   "cell_type": "markdown",
   "id": "d4612cd6",
   "metadata": {},
   "source": [
    "# Импортируем необходимые модули"
   ]
  },
  {
   "cell_type": "code",
   "execution_count": 1,
   "id": "32f7455e",
   "metadata": {},
   "outputs": [],
   "source": [
    "# Для работы с ОС \n",
    "import os \n",
    "\n",
    "# Для Deep Learning\n",
    "import torch\n",
    "\n",
    "# Импортируем модуль получения данных\n",
    "os.chdir('/root/jupyterlab/sort_media/')\n",
    "from src.SortMedia import SortMedia"
   ]
  },
  {
   "cell_type": "code",
   "execution_count": 2,
   "id": "c8583a67",
   "metadata": {},
   "outputs": [],
   "source": [
    "# Получаем переменные окружения\n",
    "PG_PASSWORD=os.environ['PG_PASSWORD']\n",
    "LOGIN_NAME=os.environ['LOGIN_NAME']\n",
    "PG_HOST = os.environ['PG_HOST']"
   ]
  },
  {
   "cell_type": "code",
   "execution_count": 3,
   "id": "064c9e0c",
   "metadata": {},
   "outputs": [
    {
     "name": "stdout",
     "output_type": "stream",
     "text": [
      "Рабоатем на устройстве: cuda:0\n"
     ]
    }
   ],
   "source": [
    "# Проверяем доступность CUDA \n",
    "print('Рабоатем на устройстве:', torch.device('cuda:0' if torch.cuda.is_available() else 'cpu'))"
   ]
  },
  {
   "cell_type": "code",
   "execution_count": 4,
   "id": "97fae48a",
   "metadata": {},
   "outputs": [
    {
     "name": "stdout",
     "output_type": "stream",
     "text": [
      "Sat Aug  7 17:09:29 2021       \n",
      "+-----------------------------------------------------------------------------+\n",
      "| NVIDIA-SMI 470.57.02    Driver Version: 470.57.02    CUDA Version: 11.4     |\n",
      "|-------------------------------+----------------------+----------------------+\n",
      "| GPU  Name        Persistence-M| Bus-Id        Disp.A | Volatile Uncorr. ECC |\n",
      "| Fan  Temp  Perf  Pwr:Usage/Cap|         Memory-Usage | GPU-Util  Compute M. |\n",
      "|                               |                      |               MIG M. |\n",
      "|===============================+======================+======================|\n",
      "|   0  NVIDIA GeForce ...  Off  | 00000000:0B:00.0  On |                  N/A |\n",
      "| 29%   39C    P8    16W / 175W |    741MiB /  7981MiB |     17%      Default |\n",
      "|                               |                      |                  N/A |\n",
      "+-------------------------------+----------------------+----------------------+\n",
      "                                                                               \n",
      "+-----------------------------------------------------------------------------+\n",
      "| Processes:                                                                  |\n",
      "|  GPU   GI   CI        PID   Type   Process name                  GPU Memory |\n",
      "|        ID   ID                                                   Usage      |\n",
      "|=============================================================================|\n",
      "+-----------------------------------------------------------------------------+\n"
     ]
    }
   ],
   "source": [
    "# Проверяем доступность видеокарты\n",
    "!nvidia-smi"
   ]
  },
  {
   "cell_type": "code",
   "execution_count": 5,
   "id": "9887982d",
   "metadata": {},
   "outputs": [],
   "source": [
    "# Создаем объект класса \n",
    "sort_media = SortMedia(\n",
    "    pg_password = PG_PASSWORD\n",
    "    ,pg_login = LOGIN_NAME\n",
    "    ,pg_host = PG_HOST\n",
    ")"
   ]
  },
  {
   "cell_type": "markdown",
   "id": "692daf50",
   "metadata": {},
   "source": [
    "# Получаем файлы и записываем их в DWH"
   ]
  },
  {
   "cell_type": "code",
   "execution_count": 6,
   "id": "609b3b73",
   "metadata": {},
   "outputs": [
    {
     "data": {
      "text/html": [
       "<div>\n",
       "<style scoped>\n",
       "    .dataframe tbody tr th:only-of-type {\n",
       "        vertical-align: middle;\n",
       "    }\n",
       "\n",
       "    .dataframe tbody tr th {\n",
       "        vertical-align: top;\n",
       "    }\n",
       "\n",
       "    .dataframe thead th {\n",
       "        text-align: right;\n",
       "    }\n",
       "</style>\n",
       "<table border=\"1\" class=\"dataframe\">\n",
       "  <thead>\n",
       "    <tr style=\"text-align: right;\">\n",
       "      <th></th>\n",
       "      <th>scheme_name</th>\n",
       "      <th>scheme_description</th>\n",
       "      <th>table_name</th>\n",
       "      <th>column_name</th>\n",
       "      <th>format_type</th>\n",
       "      <th>table_description</th>\n",
       "      <th>column_description</th>\n",
       "    </tr>\n",
       "  </thead>\n",
       "  <tbody>\n",
       "    <tr>\n",
       "      <th>0</th>\n",
       "      <td>sort_media</td>\n",
       "      <td>Объекты для обеспечения процесса перемещения м...</td>\n",
       "      <td>path</td>\n",
       "      <td>path</td>\n",
       "      <td>character varying</td>\n",
       "      <td>Пути к медиафайлам</td>\n",
       "      <td>Путь к файлу</td>\n",
       "    </tr>\n",
       "    <tr>\n",
       "      <th>1</th>\n",
       "      <td>sort_media</td>\n",
       "      <td>Объекты для обеспечения процесса перемещения м...</td>\n",
       "      <td>path</td>\n",
       "      <td>file</td>\n",
       "      <td>character varying</td>\n",
       "      <td>Пути к медиафайлам</td>\n",
       "      <td>Полное наименование файла</td>\n",
       "    </tr>\n",
       "    <tr>\n",
       "      <th>2</th>\n",
       "      <td>sort_media</td>\n",
       "      <td>Объекты для обеспечения процесса перемещения м...</td>\n",
       "      <td>path</td>\n",
       "      <td>file_name</td>\n",
       "      <td>character varying</td>\n",
       "      <td>Пути к медиафайлам</td>\n",
       "      <td>Наименование файла</td>\n",
       "    </tr>\n",
       "    <tr>\n",
       "      <th>3</th>\n",
       "      <td>sort_media</td>\n",
       "      <td>Объекты для обеспечения процесса перемещения м...</td>\n",
       "      <td>path</td>\n",
       "      <td>type</td>\n",
       "      <td>character varying</td>\n",
       "      <td>Пути к медиафайлам</td>\n",
       "      <td>Тип файла</td>\n",
       "    </tr>\n",
       "    <tr>\n",
       "      <th>4</th>\n",
       "      <td>sort_media</td>\n",
       "      <td>Объекты для обеспечения процесса перемещения м...</td>\n",
       "      <td>path</td>\n",
       "      <td>is_processed</td>\n",
       "      <td>boolean</td>\n",
       "      <td>Пути к медиафайлам</td>\n",
       "      <td>Признак обработанных файлов</td>\n",
       "    </tr>\n",
       "    <tr>\n",
       "      <th>5</th>\n",
       "      <td>sort_media</td>\n",
       "      <td>Объекты для обеспечения процесса перемещения м...</td>\n",
       "      <td>path</td>\n",
       "      <td>date_load</td>\n",
       "      <td>timestamp without time zone</td>\n",
       "      <td>Пути к медиафайлам</td>\n",
       "      <td>Дата загрузки</td>\n",
       "    </tr>\n",
       "  </tbody>\n",
       "</table>\n",
       "</div>"
      ],
      "text/plain": [
       "  scheme_name                                 scheme_description table_name  \\\n",
       "0  sort_media  Объекты для обеспечения процесса перемещения м...       path   \n",
       "1  sort_media  Объекты для обеспечения процесса перемещения м...       path   \n",
       "2  sort_media  Объекты для обеспечения процесса перемещения м...       path   \n",
       "3  sort_media  Объекты для обеспечения процесса перемещения м...       path   \n",
       "4  sort_media  Объекты для обеспечения процесса перемещения м...       path   \n",
       "5  sort_media  Объекты для обеспечения процесса перемещения м...       path   \n",
       "\n",
       "    column_name                  format_type   table_description  \\\n",
       "0          path            character varying  Пути к медиафайлам   \n",
       "1          file            character varying  Пути к медиафайлам   \n",
       "2     file_name            character varying  Пути к медиафайлам   \n",
       "3          type            character varying  Пути к медиафайлам   \n",
       "4  is_processed                      boolean  Пути к медиафайлам   \n",
       "5     date_load  timestamp without time zone  Пути к медиафайлам   \n",
       "\n",
       "            column_description  \n",
       "0                 Путь к файлу  \n",
       "1    Полное наименование файла  \n",
       "2           Наименование файла  \n",
       "3                    Тип файла  \n",
       "4  Признак обработанных файлов  \n",
       "5                Дата загрузки  "
      ]
     },
     "execution_count": 6,
     "metadata": {},
     "output_type": "execute_result"
    }
   ],
   "source": [
    "# Смотрим описание таблиц\n",
    "sort_media.pg_descriptions()"
   ]
  },
  {
   "cell_type": "code",
   "execution_count": 7,
   "id": "394b3ae7",
   "metadata": {},
   "outputs": [],
   "source": [
    "# Записываем новые пути в таблицу\n",
    "# sort_media.write_new_path()"
   ]
  },
  {
   "cell_type": "markdown",
   "id": "95e85e23",
   "metadata": {},
   "source": [
    "# Модель"
   ]
  },
  {
   "cell_type": "code",
   "execution_count": 8,
   "id": "f205a87f",
   "metadata": {},
   "outputs": [],
   "source": [
    "# Сохраняем модель \n",
    "# sort_media.write_model_embedding()\n",
    "# Сохранеяем усредненный эмбединг искомого человека \n",
    "# sort_media.write_avg_embedding_human()"
   ]
  },
  {
   "cell_type": "markdown",
   "id": "4601981b",
   "metadata": {},
   "source": [
    "# Сортируем медиафайлы"
   ]
  },
  {
   "cell_type": "code",
   "execution_count": 9,
   "id": "563f3f15",
   "metadata": {},
   "outputs": [],
   "source": [
    "sort_media.media_sort()"
   ]
  }
 ],
 "metadata": {
  "kernelspec": {
   "display_name": "Python 3",
   "language": "python",
   "name": "python3"
  },
  "language_info": {
   "codemirror_mode": {
    "name": "ipython",
    "version": 3
   },
   "file_extension": ".py",
   "mimetype": "text/x-python",
   "name": "python",
   "nbconvert_exporter": "python",
   "pygments_lexer": "ipython3",
   "version": "3.9.5"
  },
  "toc-autonumbering": true
 },
 "nbformat": 4,
 "nbformat_minor": 5
}
