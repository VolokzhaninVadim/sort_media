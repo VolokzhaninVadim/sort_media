{
 "cells": [
  {
   "cell_type": "markdown",
   "id": "37125af0",
   "metadata": {},
   "source": [
    "**Author:** Volokzhanin Vadim<br>\n",
    "**Date create:** 15.07.2021<br>\n",
    "**Repository:** https://github.com/VolokzhaninVadim/sort_media.git <br>\n",
    "**Target:** Сортировка медиафайлов, в которых есть лицо искомого человека"
   ]
  },
  {
   "cell_type": "markdown",
   "id": "22683432",
   "metadata": {},
   "source": [
    "# Схема работы  "
   ]
  },
  {
   "cell_type": "markdown",
   "id": "f1d6493c",
   "metadata": {},
   "source": [
    "![face_detection.png](https://github.com/VolokzhaninVadim/sort_media/raw/main/description/face_detection.png)"
   ]
  },
  {
   "cell_type": "markdown",
   "id": "7baa0382",
   "metadata": {},
   "source": [
    "# Импортируем необходимые модули"
   ]
  },
  {
   "cell_type": "code",
   "execution_count": 11,
   "id": "f426a7b5",
   "metadata": {},
   "outputs": [],
   "source": [
    "# Для работы с ОС \n",
    "import os \n",
    "\n",
    "# Импортируем модуль получения данных\n",
    "os.chdir('/root/jupyterlab/sort_media/')\n",
    "from src.SortMedia import SortMedia"
   ]
  },
  {
   "cell_type": "code",
   "execution_count": 12,
   "id": "44213f0f",
   "metadata": {},
   "outputs": [],
   "source": [
    "# Создаем объект класса \n",
    "sort_media = SortMedia()"
   ]
  },
  {
   "cell_type": "markdown",
   "id": "9ffa364c",
   "metadata": {},
   "source": [
    "# Получаем файлы"
   ]
  },
  {
   "cell_type": "code",
   "execution_count": 13,
   "id": "103efd94",
   "metadata": {},
   "outputs": [
    {
     "data": {
      "text/plain": [
       "['/camera_vvy/IMG_20210331_114830.jpg',\n",
       " '/camera_vvy/IMG_20151104_134923.jpg',\n",
       " '/camera_vvy/IMG_20200928_210913.jpg',\n",
       " '/camera_vvy/IMG_20180517_150134.jpg',\n",
       " '/camera_vvy/VID_20200801_141113.mp4']"
      ]
     },
     "execution_count": 13,
     "metadata": {},
     "output_type": "execute_result"
    }
   ],
   "source": [
    "# Получаем файлы\n",
    "input_files_list = sort_media.get_files()\n",
    "input_files_list[:5]"
   ]
  },
  {
   "cell_type": "code",
   "execution_count": null,
   "id": "005bf893",
   "metadata": {},
   "outputs": [],
   "source": []
  }
 ],
 "metadata": {
  "kernelspec": {
   "display_name": "Python 3",
   "language": "python",
   "name": "python3"
  },
  "language_info": {
   "codemirror_mode": {
    "name": "ipython",
    "version": 3
   },
   "file_extension": ".py",
   "mimetype": "text/x-python",
   "name": "python",
   "nbconvert_exporter": "python",
   "pygments_lexer": "ipython3",
   "version": "3.9.5"
  }
 },
 "nbformat": 4,
 "nbformat_minor": 5
}
